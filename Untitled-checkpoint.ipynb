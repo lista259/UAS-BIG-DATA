{
 "cells": [
  {
   "cell_type": "code",
   "execution_count": 1,
   "id": "1491493a-fdb1-4732-a8d7-16d26186e5f2",
   "metadata": {},
   "outputs": [],
   "source": [
    "import pandas as pd\n",
    "import numpy as np\n",
    "import seaborn as sns\n",
    "import matplotlib.pyplot as plt\n",
    "from mlxtend.preprocessing import TransactionEncoder\n",
    "from mlxtend.frequent_patterns import apriori, association_rules\n"
   ]
  },
  {
   "cell_type": "code",
   "execution_count": 2,
   "id": "1a61cd8d-be69-490a-b336-883b3c8ac76a",
   "metadata": {},
   "outputs": [],
   "source": [
    "# Read data\n",
    "df = pd.read_csv(\"consumer behaviour.csv\")\n"
   ]
  },
  {
   "cell_type": "code",
   "execution_count": 3,
   "id": "5ca7349a-4e2c-4f4e-adf7-00f2ba45cb9b",
   "metadata": {},
   "outputs": [],
   "source": [
    "# Handle missing values (replace with your logic)\n",
    "for col in df.columns:\n",
    "    if df[col].dtypes == 'float64':\n",
    "        df[col].fillna(-1, inplace=True)\n",
    "        "
   ]
  },
  {
   "cell_type": "code",
   "execution_count": 4,
   "id": "233c81c8-fd57-4e02-8fa3-f0ca96b9d8f7",
   "metadata": {},
   "outputs": [],
   "source": [
    "# Convert days_since_prior_order to integer (assuming it represents days)\n",
    "df['days_since_prior_order'] = df['days_since_prior_order'].astype(np.int64)\n"
   ]
  },
  {
   "cell_type": "code",
   "execution_count": 5,
   "id": "842a9a21-1d19-4445-b181-84e420de4488",
   "metadata": {},
   "outputs": [],
   "source": [
    "# Identify Inactive Users\n",
    "threshold_days = 60  # Define threshold for inactivity (days)\n",
    "inactive_users = df[df['days_since_prior_order'] >= threshold_days]['user_id'].unique()\n"
   ]
  },
  {
   "cell_type": "code",
   "execution_count": 5,
   "id": "fc12ebc3-c2b6-4cb7-acd7-9c7bf20e0939",
   "metadata": {},
   "outputs": [],
   "source": [
    "# Prepare transactions for Apriori\n",
    "transactions = inactive_df.groupby('user_id')['product_name'].apply(list).tolist()\n"
   ]
  },
  {
   "cell_type": "code",
   "execution_count": 8,
   "id": "790f2fb1-32f8-4af3-9f8b-26b50ea414c7",
   "metadata": {},
   "outputs": [],
   "source": [
    "# Apply Apriori algorithm\n",
    "te = TransactionEncoder()\n",
    "te_ary = te.fit(transactions).transform(transactions)\n",
    "df_te = pd.DataFrame(te_ary, columns=te.columns_)\n"
   ]
  },
  {
   "cell_type": "code",
   "execution_count": null,
   "id": "acaca3bb-bf01-4dee-95a5-fa3437c8064e",
   "metadata": {},
   "outputs": [],
   "source": [
    "# Create frequent itemsets\n",
    "frequent_itemsets = apriori(df_te, min_support=0.01, use_colnames=True)\n"
   ]
  },
  {
   "cell_type": "code",
   "execution_count": null,
   "id": "937ffbe1-338e-4b2e-9b38-2c9b6fec2838",
   "metadata": {},
   "outputs": [],
   "source": [
    "# Derive Association Rules\n",
    "rules = association_rules(frequent_itemsets, metric='confidence', min_threshold=0.5)\n",
    "rules['antecedents'] = rules['antecedents'].apply(lambda x: ', '.join(list(x)))\n",
    "rules['consequents'] = rules['consequents'].apply(lambda x: ', '.join(list(x)))\n"
   ]
  },
  {
   "cell_type": "code",
   "execution_count": null,
   "id": "1501d235-87a1-42ac-9c8b-b905f63d402a",
   "metadata": {},
   "outputs": [],
   "source": [
    "# User Reactivation Strategy based on Association Rules\n",
    "def recommend_products(user_id):\n",
    "    user_transactions = df[df['user_id'] == user_id]['product_name'].tolist()\n",
    "    for rule in rules.itertuples():\n",
    "        antecedents = rule.antecedents.split(', ')\n",
    "        consequents = rule.consequents\n",
    "        confidence = rule.confidence\n",
    "        if all(item in user_transactions for item in antecedents):\n",
    "            return f\"Recommend {consequents} with confidence {confidence:.2f}\"\n",
    "    return \"Recommend general promotional offers\"\n",
    "    "
   ]
  },
  {
   "cell_type": "code",
   "execution_count": null,
   "id": "fbaac7af-a81f-4c3a-a198-3686e1acf0a2",
   "metadata": {},
   "outputs": [],
   "source": [
    "# Apply reactivation strategy to inactive users\n",
    "df['reactivation_strategy'] = df['user_id'].apply(lambda x: recommend_products(x) if x in inactive_users else 'NA')\n"
   ]
  },
  {
   "cell_type": "code",
   "execution_count": null,
   "id": "0c3ed810-20c6-4505-bc92-f03816e37064",
   "metadata": {},
   "outputs": [],
   "source": [
    "# Print results (example)\n",
    "print(df[df['user_id'].isin(inactive_users)][['user_id', 'days_since_prior_order', 'reactivation_strategy']].head())\n"
   ]
  },
  {
   "cell_type": "code",
   "execution_count": null,
   "id": "272dde4d-0d4f-4ba1-9690-2446be9aa587",
   "metadata": {},
   "outputs": [],
   "source": [
    "# Visualize the results (optional)\n",
    "sns.countplot(x='reactivation_strategy', data=df[df['user_id'].isin(inactive_users)])\n",
    "plt.title('Reactivation Strategies for Inactive Users')\n",
    "plt.xlabel('Reactivation Strategy')\n",
    "plt.ylabel('Count')\n",
    "plt.xticks(rotation=90)\n",
    "plt.show()\n"
   ]
  }
 ],
 "metadata": {
  "kernelspec": {
   "display_name": "Python 3 (ipykernel)",
   "language": "python",
   "name": "python3"
  },
  "language_info": {
   "codemirror_mode": {
    "name": "ipython",
    "version": 3
   },
   "file_extension": ".py",
   "mimetype": "text/x-python",
   "name": "python",
   "nbconvert_exporter": "python",
   "pygments_lexer": "ipython3",
   "version": "3.11.7"
  }
 },
 "nbformat": 4,
 "nbformat_minor": 5
}
